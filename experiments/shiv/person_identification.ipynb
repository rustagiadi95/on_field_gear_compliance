{
 "cells": [
  {
   "cell_type": "code",
   "execution_count": 2,
   "metadata": {},
   "outputs": [
    {
     "name": "stderr",
     "output_type": "stream",
     "text": [
      "2023-11-02 12:43:43.062047: E tensorflow/compiler/xla/stream_executor/cuda/cuda_dnn.cc:9342] Unable to register cuDNN factory: Attempting to register factory for plugin cuDNN when one has already been registered\n",
      "2023-11-02 12:43:43.062112: E tensorflow/compiler/xla/stream_executor/cuda/cuda_fft.cc:609] Unable to register cuFFT factory: Attempting to register factory for plugin cuFFT when one has already been registered\n",
      "2023-11-02 12:43:43.062150: E tensorflow/compiler/xla/stream_executor/cuda/cuda_blas.cc:1518] Unable to register cuBLAS factory: Attempting to register factory for plugin cuBLAS when one has already been registered\n",
      "2023-11-02 12:43:43.073934: I tensorflow/core/platform/cpu_feature_guard.cc:182] This TensorFlow binary is optimized to use available CPU instructions in performance-critical operations.\n",
      "To enable the following instructions: AVX2 FMA, in other operations, rebuild TensorFlow with the appropriate compiler flags.\n",
      "2023-11-02 12:43:44.264626: W tensorflow/compiler/tf2tensorrt/utils/py_utils.cc:38] TF-TRT Warning: Could not find TensorRT\n"
     ]
    }
   ],
   "source": [
    "from deepface import DeepFace\n",
    "from deepface.commons import distance as dst\n",
    "\n",
    "import os \n",
    "import json"
   ]
  },
  {
   "cell_type": "code",
   "execution_count": null,
   "metadata": {},
   "outputs": [],
   "source": [
    "def add_data_to_json_file(file_path, data):\n",
    "\n",
    "    try:\n",
    "        # Check if the file already exists\n",
    "        if os.path.exists(file_path):\n",
    "            # If it exists, read the existing data\n",
    "            with open(file_path, 'r') as file:\n",
    "                existing_data = json.load(file)\n",
    "        else:\n",
    "            # If it doesn't exist, create an empty list for data\n",
    "            existing_data = []\n",
    "\n",
    "        new_data = {}\n",
    "        # Add the new data to the existing data\n",
    "        person_name = list(data.keys())[0]\n",
    "        if person_name in existing_data[0].keys():\n",
    "            older_embeddings = existing_data[0][person_name]\n",
    "            updated_embeding = older_embeddings.append(data[person_name])\n",
    "            new_data[person_name] = updated_embeding\n",
    "\n",
    "        else:\n",
    "            new_data[person_name] = [data[person_name]]\n",
    "\n",
    "        existing_data.extend(new_data)\n",
    "        # Write the updated data back to the JSON file\n",
    "        with open(file_path, 'w') as file:\n",
    "            json.dump(existing_data, file, indent=4)\n",
    "            \n",
    "        return True\n",
    "    \n",
    "    except Exception as e:\n",
    "        print(e)\n",
    "        return False"
   ]
  },
  {
   "cell_type": "code",
   "execution_count": 2,
   "metadata": {},
   "outputs": [],
   "source": [
    "def register_user(image_path, person_name):\n",
    "\n",
    "    root_dir = 'data/registered_user'\n",
    "    if not os.path.isdir(root_dir):\n",
    "        os.makedirs(root_dir)\n",
    "\n",
    "    embedding_objs = DeepFace.represent(img_path = image_path)\n",
    "    embedding = embedding_objs[0]['embedding']\n",
    "\n",
    "    file_path = 'data/registered_user/users.json'\n",
    "    data = {person_name: embedding}\n",
    "    user_registered = add_data_to_json_file(file_path, data)\n",
    "\n",
    "    if user_registered:\n",
    "        print(\"User Registered Succesfully!!!\")\n",
    "    \n",
    "    else:\n",
    "        print(\"User Registration Failed\")"
   ]
  },
  {
   "cell_type": "code",
   "execution_count": null,
   "metadata": {},
   "outputs": [],
   "source": [
    "def predict_user_name():\n",
    "    "
   ]
  },
  {
   "cell_type": "code",
   "execution_count": null,
   "metadata": {},
   "outputs": [],
   "source": []
  },
  {
   "cell_type": "code",
   "execution_count": 9,
   "metadata": {},
   "outputs": [],
   "source": [
    "embedding_objs_1 = DeepFace.represent(img_path = \"data/Administration/1606700230957.jpeg\")\n",
    "embedding_objs_2 = DeepFace.represent(img_path = \"data/Administration/Gajendra Assistant Manager.jpg\")"
   ]
  },
  {
   "cell_type": "code",
   "execution_count": 10,
   "metadata": {},
   "outputs": [],
   "source": [
    "k2 = embedding_objs_1[0]['embedding']"
   ]
  },
  {
   "cell_type": "code",
   "execution_count": 11,
   "metadata": {},
   "outputs": [],
   "source": [
    "k1 = embedding_objs_2[0]['embedding']"
   ]
  },
  {
   "cell_type": "code",
   "execution_count": 12,
   "metadata": {},
   "outputs": [],
   "source": [
    "cosine_distance = dst.findCosineDistance(k1, k2)\n",
    "euclidean_distance = dst.findEuclideanDistance(k1, k2)\n",
    "euclidean_l2_distance = dst.findEuclideanDistance(dst.l2_normalize(k1), dst.l2_normalize(k2))\n"
   ]
  },
  {
   "cell_type": "code",
   "execution_count": 13,
   "metadata": {},
   "outputs": [
    {
     "name": "stdout",
     "output_type": "stream",
     "text": [
      "cosine_distance: 0.7458483688434112\n",
      "euclidean_distance: 0.6104250305165337\n",
      "euclidean_l2_distance: 1.2213503746619243\n"
     ]
    }
   ],
   "source": [
    "print(\"cosine_distance:\", cosine_distance)\n",
    "print(\"euclidean_distance:\", euclidean_distance)\n",
    "print(\"euclidean_l2_distance:\", euclidean_l2_distance)"
   ]
  },
  {
   "cell_type": "code",
   "execution_count": null,
   "metadata": {},
   "outputs": [],
   "source": []
  }
 ],
 "metadata": {
  "kernelspec": {
   "display_name": "pragya",
   "language": "python",
   "name": "python3"
  },
  "language_info": {
   "codemirror_mode": {
    "name": "ipython",
    "version": 3
   },
   "file_extension": ".py",
   "mimetype": "text/x-python",
   "name": "python",
   "nbconvert_exporter": "python",
   "pygments_lexer": "ipython3",
   "version": "3.9.18"
  }
 },
 "nbformat": 4,
 "nbformat_minor": 2
}
