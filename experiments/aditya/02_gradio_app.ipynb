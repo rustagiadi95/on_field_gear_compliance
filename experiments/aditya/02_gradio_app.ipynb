{
 "cells": [
  {
   "cell_type": "code",
   "execution_count": 1,
   "metadata": {},
   "outputs": [],
   "source": [
    "%load_ext autoreload\n",
    "%autoreload 2"
   ]
  },
  {
   "cell_type": "code",
   "execution_count": 2,
   "metadata": {},
   "outputs": [
    {
     "name": "stderr",
     "output_type": "stream",
     "text": [
      "/home/aditya_rustagi_farmart_co/.local/lib/python3.9/site-packages/tqdm/auto.py:21: TqdmWarning: IProgress not found. Please update jupyter and ipywidgets. See https://ipywidgets.readthedocs.io/en/stable/user_install.html\n",
      "  from .autonotebook import tqdm as notebook_tqdm\n",
      "2023-11-02 18:38:43.610685: E tensorflow/compiler/xla/stream_executor/cuda/cuda_dnn.cc:9342] Unable to register cuDNN factory: Attempting to register factory for plugin cuDNN when one has already been registered\n",
      "2023-11-02 18:38:43.610738: E tensorflow/compiler/xla/stream_executor/cuda/cuda_fft.cc:609] Unable to register cuFFT factory: Attempting to register factory for plugin cuFFT when one has already been registered\n",
      "2023-11-02 18:38:43.610775: E tensorflow/compiler/xla/stream_executor/cuda/cuda_blas.cc:1518] Unable to register cuBLAS factory: Attempting to register factory for plugin cuBLAS when one has already been registered\n",
      "2023-11-02 18:38:43.621678: I tensorflow/core/platform/cpu_feature_guard.cc:182] This TensorFlow binary is optimized to use available CPU instructions in performance-critical operations.\n",
      "To enable the following instructions: AVX2 AVX512F FMA, in other operations, rebuild TensorFlow with the appropriate compiler flags.\n",
      "2023-11-02 18:38:44.844738: W tensorflow/compiler/tf2tensorrt/utils/py_utils.cc:38] TF-TRT Warning: Could not find TensorRT\n"
     ]
    },
    {
     "name": "stdout",
     "output_type": "stream",
     "text": [
      "initializing model\n"
     ]
    }
   ],
   "source": [
    "import gradio as gr\n",
    "from PIL import Image\n",
    "from on_field_gear_compliance_hackathon.models import predict"
   ]
  },
  {
   "cell_type": "code",
   "execution_count": 3,
   "metadata": {},
   "outputs": [],
   "source": [
    "def check_authenticity(image) :\n",
    "\n",
    "    print(type(image))\n",
    "\n",
    "    count = predict.contrastive_reply(image, mode='count_people')\n",
    "    if not count == 'a photo with ONLY ONE person' :\n",
    "        return \"Validation Failed, provided does not have only one person\"\n",
    "\n",
    "    helmet = predict.contrastive_reply(image, mode='helmet')\n",
    "    if not helmet == 'a person wearing helmet' :\n",
    "        return \"The person is not wearing helmet\"\n",
    "\n",
    "    return helmet"
   ]
  },
  {
   "cell_type": "code",
   "execution_count": 4,
   "metadata": {},
   "outputs": [],
   "source": [
    "with gr.Blocks() as demo :\n",
    "    \n",
    "    gr.Markdown('On site gear compliance demo')\n",
    "    with gr.Tab('Detect helmet') :\n",
    "        helmet_image = gr.Image()\n",
    "        helmet_output = gr.Text()\n",
    "        helmet_button = gr.Button(\"Detect Helmet\")\n",
    "        \n",
    "    with gr.Tab('Recognize individual') :\n",
    "        recognize_image = gr.Image()\n",
    "        recognize_output = gr.Text()\n",
    "        recognize_button = gr.Button(\"Fetch Name\")\n",
    "        \n",
    "    with gr.Tab('Add individual') :\n",
    "        add_image = gr.Image()\n",
    "        add_name = gr.Text()\n",
    "        add_output = gr.Text()\n",
    "        add_button = gr.Button(\"Add\")\n",
    "\n",
    "\n",
    "    helmet_button.click(fn=check_authenticity, inputs=helmet_image, outputs = helmet_output)\n",
    "    recognize_button.click(fn=predict.recognize, inputs=recognize_image, outputs=recognize_output)\n",
    "    add_button.click(fn=predict.add_face, inputs=[add_image, add_name], outputs=add_output)\n"
   ]
  },
  {
   "cell_type": "code",
   "execution_count": 5,
   "metadata": {},
   "outputs": [
    {
     "name": "stdout",
     "output_type": "stream",
     "text": [
      "Running on local URL:  http://127.0.0.1:7860\n",
      "\n",
      "To create a public link, set `share=True` in `launch()`.\n"
     ]
    },
    {
     "data": {
      "text/html": [
       "<div><iframe src=\"http://127.0.0.1:7860/\" width=\"100%\" height=\"500\" allow=\"autoplay; camera; microphone; clipboard-read; clipboard-write;\" frameborder=\"0\" allowfullscreen></iframe></div>"
      ],
      "text/plain": [
       "<IPython.core.display.HTML object>"
      ]
     },
     "metadata": {},
     "output_type": "display_data"
    },
    {
     "data": {
      "text/plain": []
     },
     "execution_count": 5,
     "metadata": {},
     "output_type": "execute_result"
    },
    {
     "name": "stderr",
     "output_type": "stream",
     "text": [
      "Traceback (most recent call last):\n",
      "  File \"/home/aditya_rustagi_farmart_co/.local/lib/python3.9/site-packages/gradio/queueing.py\", line 427, in call_prediction\n",
      "    output = await route_utils.call_process_api(\n",
      "  File \"/home/aditya_rustagi_farmart_co/.local/lib/python3.9/site-packages/gradio/route_utils.py\", line 232, in call_process_api\n",
      "    output = await app.get_blocks().process_api(\n",
      "  File \"/home/aditya_rustagi_farmart_co/.local/lib/python3.9/site-packages/gradio/blocks.py\", line 1497, in process_api\n",
      "    result = await self.call_function(\n",
      "  File \"/home/aditya_rustagi_farmart_co/.local/lib/python3.9/site-packages/gradio/blocks.py\", line 1119, in call_function\n",
      "    prediction = await anyio.to_thread.run_sync(\n",
      "  File \"/home/aditya_rustagi_farmart_co/.local/lib/python3.9/site-packages/anyio/to_thread.py\", line 33, in run_sync\n",
      "    return await get_asynclib().run_sync_in_worker_thread(\n",
      "  File \"/home/aditya_rustagi_farmart_co/.local/lib/python3.9/site-packages/anyio/_backends/_asyncio.py\", line 877, in run_sync_in_worker_thread\n",
      "    return await future\n",
      "  File \"/home/aditya_rustagi_farmart_co/.local/lib/python3.9/site-packages/anyio/_backends/_asyncio.py\", line 807, in run\n",
      "    result = context.run(func, *args)\n",
      "  File \"/home/aditya_rustagi_farmart_co/.local/lib/python3.9/site-packages/gradio/utils.py\", line 665, in wrapper\n",
      "    response = f(*args, **kwargs)\n",
      "  File \"/home/aditya_rustagi_farmart_co/fmt/on_field_gear_compliance/on_field_gear_compliance_hackathon/models/predict.py\", line 78, in add_face\n",
      "    img.save(DATA_DIR, f'uploaded_images/{name}.jpeg')\n",
      "AttributeError: 'numpy.ndarray' object has no attribute 'save'\n",
      "Traceback (most recent call last):\n",
      "  File \"/home/aditya_rustagi_farmart_co/.local/lib/python3.9/site-packages/gradio/queueing.py\", line 427, in call_prediction\n",
      "    output = await route_utils.call_process_api(\n",
      "  File \"/home/aditya_rustagi_farmart_co/.local/lib/python3.9/site-packages/gradio/route_utils.py\", line 232, in call_process_api\n",
      "    output = await app.get_blocks().process_api(\n",
      "  File \"/home/aditya_rustagi_farmart_co/.local/lib/python3.9/site-packages/gradio/blocks.py\", line 1497, in process_api\n",
      "    result = await self.call_function(\n",
      "  File \"/home/aditya_rustagi_farmart_co/.local/lib/python3.9/site-packages/gradio/blocks.py\", line 1119, in call_function\n",
      "    prediction = await anyio.to_thread.run_sync(\n",
      "  File \"/home/aditya_rustagi_farmart_co/.local/lib/python3.9/site-packages/anyio/to_thread.py\", line 33, in run_sync\n",
      "    return await get_asynclib().run_sync_in_worker_thread(\n",
      "  File \"/home/aditya_rustagi_farmart_co/.local/lib/python3.9/site-packages/anyio/_backends/_asyncio.py\", line 877, in run_sync_in_worker_thread\n",
      "    return await future\n",
      "  File \"/home/aditya_rustagi_farmart_co/.local/lib/python3.9/site-packages/anyio/_backends/_asyncio.py\", line 807, in run\n",
      "    result = context.run(func, *args)\n",
      "  File \"/home/aditya_rustagi_farmart_co/.local/lib/python3.9/site-packages/gradio/utils.py\", line 665, in wrapper\n",
      "    response = f(*args, **kwargs)\n",
      "  File \"/home/aditya_rustagi_farmart_co/fmt/on_field_gear_compliance/on_field_gear_compliance_hackathon/models/predict.py\", line 78, in add_face\n",
      "    img.save(DATA_DIR, f'uploaded_images/{name}.jpeg')\n",
      "AttributeError: 'numpy.ndarray' object has no attribute 'save'\n",
      "\n",
      "The above exception was the direct cause of the following exception:\n",
      "\n",
      "Traceback (most recent call last):\n",
      "  File \"/home/aditya_rustagi_farmart_co/.local/lib/python3.9/site-packages/gradio/queueing.py\", line 472, in process_events\n",
      "    response = await self.call_prediction(awake_events, batch)\n",
      "  File \"/home/aditya_rustagi_farmart_co/.local/lib/python3.9/site-packages/gradio/queueing.py\", line 436, in call_prediction\n",
      "    raise Exception(str(error) if show_error else None) from error\n",
      "Exception: None\n"
     ]
    }
   ],
   "source": [
    "demo.launch()"
   ]
  },
  {
   "cell_type": "code",
   "execution_count": null,
   "metadata": {},
   "outputs": [],
   "source": []
  }
 ],
 "metadata": {
  "kernelspec": {
   "display_name": "content-moderation",
   "language": "python",
   "name": "python3"
  },
  "language_info": {
   "codemirror_mode": {
    "name": "ipython",
    "version": 3
   },
   "file_extension": ".py",
   "mimetype": "text/x-python",
   "name": "python",
   "nbconvert_exporter": "python",
   "pygments_lexer": "ipython3",
   "version": "3.9.2"
  }
 },
 "nbformat": 4,
 "nbformat_minor": 2
}
