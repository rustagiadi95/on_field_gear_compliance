{
 "cells": [
  {
   "cell_type": "code",
   "execution_count": 1,
   "metadata": {},
   "outputs": [],
   "source": [
    "%load_ext autoreload\n",
    "%autoreload 2"
   ]
  },
  {
   "cell_type": "code",
   "execution_count": 2,
   "metadata": {},
   "outputs": [
    {
     "name": "stderr",
     "output_type": "stream",
     "text": [
      "/home/aditya_rustagi_farmart_co/.local/lib/python3.9/site-packages/tqdm/auto.py:21: TqdmWarning: IProgress not found. Please update jupyter and ipywidgets. See https://ipywidgets.readthedocs.io/en/stable/user_install.html\n",
      "  from .autonotebook import tqdm as notebook_tqdm\n",
      "/home/aditya_rustagi_farmart_co/.conda/envs/content-moderation/lib/python3.9/site-packages/torch/cuda/__init__.py:546: UserWarning: Can't initialize NVML\n",
      "  warnings.warn(\"Can't initialize NVML\")\n",
      "2023-11-07 06:58:28.512109: E tensorflow/compiler/xla/stream_executor/cuda/cuda_dnn.cc:9342] Unable to register cuDNN factory: Attempting to register factory for plugin cuDNN when one has already been registered\n",
      "2023-11-07 06:58:28.512185: E tensorflow/compiler/xla/stream_executor/cuda/cuda_fft.cc:609] Unable to register cuFFT factory: Attempting to register factory for plugin cuFFT when one has already been registered\n",
      "2023-11-07 06:58:28.512224: E tensorflow/compiler/xla/stream_executor/cuda/cuda_blas.cc:1518] Unable to register cuBLAS factory: Attempting to register factory for plugin cuBLAS when one has already been registered\n",
      "2023-11-07 06:58:28.529535: I tensorflow/core/platform/cpu_feature_guard.cc:182] This TensorFlow binary is optimized to use available CPU instructions in performance-critical operations.\n",
      "To enable the following instructions: AVX2 AVX512F FMA, in other operations, rebuild TensorFlow with the appropriate compiler flags.\n"
     ]
    },
    {
     "name": "stdout",
     "output_type": "stream",
     "text": [
      "initializing model\n"
     ]
    }
   ],
   "source": [
    "import gradio as gr\n",
    "from PIL import Image\n",
    "from on_field_gear_compliance_hackathon.models import predict"
   ]
  },
  {
   "cell_type": "code",
   "execution_count": 3,
   "metadata": {},
   "outputs": [],
   "source": [
    "def check_authenticity(image) :\n",
    "\n",
    "    print(type(image))\n",
    "\n",
    "    count = predict.contrastive_reply(image, mode='count_people')\n",
    "    print(type(count))\n",
    "    if not count == 'a photo with 1 person' :\n",
    "        return \"Validation Failed, provided does not have only one person\"\n",
    "\n",
    "\n",
    "    helmet = predict.contrastive_reply(image, mode='helmet')\n",
    "    print(helmet)\n",
    "    if not helmet == 'a person wearing helmet' :\n",
    "        return \"The person is not wearing helmet\"\n",
    "\n",
    "    return helmet"
   ]
  },
  {
   "cell_type": "code",
   "execution_count": 4,
   "metadata": {},
   "outputs": [],
   "source": [
    "with gr.Blocks() as demo :\n",
    "    \n",
    "    gr.Markdown('On site gear compliance demo')\n",
    "    with gr.Tab('Detect helmet') :\n",
    "        helmet_image = gr.Image()\n",
    "        helmet_output = gr.Text()\n",
    "        helmet_button = gr.Button(\"Detect Helmet\")\n",
    "        \n",
    "    with gr.Tab('Recognize individual') :\n",
    "        recognize_image = gr.Image()\n",
    "        recognize_output = gr.Image(label=\"Output Box\")\n",
    "        recognize_button = gr.Button(\"Fetch Name\")\n",
    "        \n",
    "    with gr.Tab('Add individual') :\n",
    "        add_image = gr.Image()\n",
    "        add_name = gr.Text()\n",
    "        add_output = gr.Text()\n",
    "        add_button = gr.Button(\"Add\")\n",
    "\n",
    "\n",
    "    helmet_button.click(fn=check_authenticity, inputs=helmet_image, outputs = helmet_output)\n",
    "    recognize_button.click(fn=predict.recognize, inputs=recognize_image, outputs=recognize_output)\n",
    "    add_button.click(fn=predict.add_face, inputs=[add_image, add_name], outputs=add_output)\n"
   ]
  },
  {
   "cell_type": "code",
   "execution_count": 5,
   "metadata": {},
   "outputs": [
    {
     "name": "stdout",
     "output_type": "stream",
     "text": [
      "Running on local URL:  http://127.0.0.1:7860\n",
      "\n",
      "To create a public link, set `share=True` in `launch()`.\n"
     ]
    },
    {
     "data": {
      "text/html": [
       "<div><iframe src=\"http://127.0.0.1:7860/\" width=\"100%\" height=\"500\" allow=\"autoplay; camera; microphone; clipboard-read; clipboard-write;\" frameborder=\"0\" allowfullscreen></iframe></div>"
      ],
      "text/plain": [
       "<IPython.core.display.HTML object>"
      ]
     },
     "metadata": {},
     "output_type": "display_data"
    },
    {
     "data": {
      "text/plain": []
     },
     "execution_count": 5,
     "metadata": {},
     "output_type": "execute_result"
    },
    {
     "name": "stdout",
     "output_type": "stream",
     "text": [
      "<class 'numpy.ndarray'>\n",
      "tensor([[0.1450, 0.6085, 0.2465]], grad_fn=<SoftmaxBackward0>)\n",
      "<class 'str'>\n",
      "tensor([[0.1803, 0.8197]], grad_fn=<SoftmaxBackward0>)\n",
      "a person not wearing helmet\n",
      "<class 'numpy.ndarray'>\n",
      "tensor([[0.1874, 0.7114, 0.1012]], grad_fn=<SoftmaxBackward0>)\n",
      "<class 'str'>\n",
      "tensor([[0.7940, 0.2060]], grad_fn=<SoftmaxBackward0>)\n",
      "a person wearing helmet\n",
      "<class 'numpy.ndarray'>\n",
      "tensor([[0.1403, 0.8115, 0.0482]], grad_fn=<SoftmaxBackward0>)\n",
      "<class 'str'>\n",
      "tensor([[0.7915, 0.2085]], grad_fn=<SoftmaxBackward0>)\n",
      "a person wearing helmet\n",
      "WARNING: Representations for images in /home/aditya_rustagi_farmart_co/fmt/on_field_gear_compliance/data/verified_images folder were previously stored in representations_vgg_face.pkl. If you added new instances after the creation, then please delete this file and call find function again. It will create it again.\n",
      "There are  19  representations found in  representations_vgg_face.pkl\n"
     ]
    },
    {
     "name": "stderr",
     "output_type": "stream",
     "text": [
      "huggingface/tokenizers: The current process just got forked, after parallelism has already been used. Disabling parallelism to avoid deadlocks...\n",
      "To disable this warning, you can either:\n",
      "\t- Avoid using `tokenizers` before the fork if possible\n",
      "\t- Explicitly set the environment variable TOKENIZERS_PARALLELISM=(true | false)\n",
      "huggingface/tokenizers: The current process just got forked, after parallelism has already been used. Disabling parallelism to avoid deadlocks...\n",
      "To disable this warning, you can either:\n",
      "\t- Avoid using `tokenizers` before the fork if possible\n",
      "\t- Explicitly set the environment variable TOKENIZERS_PARALLELISM=(true | false)\n",
      "huggingface/tokenizers: The current process just got forked, after parallelism has already been used. Disabling parallelism to avoid deadlocks...\n",
      "To disable this warning, you can either:\n",
      "\t- Avoid using `tokenizers` before the fork if possible\n",
      "\t- Explicitly set the environment variable TOKENIZERS_PARALLELISM=(true | false)\n",
      "huggingface/tokenizers: The current process just got forked, after parallelism has already been used. Disabling parallelism to avoid deadlocks...\n",
      "To disable this warning, you can either:\n",
      "\t- Avoid using `tokenizers` before the fork if possible\n",
      "\t- Explicitly set the environment variable TOKENIZERS_PARALLELISM=(true | false)\n",
      "huggingface/tokenizers: The current process just got forked, after parallelism has already been used. Disabling parallelism to avoid deadlocks...\n",
      "To disable this warning, you can either:\n",
      "\t- Avoid using `tokenizers` before the fork if possible\n",
      "\t- Explicitly set the environment variable TOKENIZERS_PARALLELISM=(true | false)\n",
      "huggingface/tokenizers: The current process just got forked, after parallelism has already been used. Disabling parallelism to avoid deadlocks...\n",
      "To disable this warning, you can either:\n",
      "\t- Avoid using `tokenizers` before the fork if possible\n",
      "\t- Explicitly set the environment variable TOKENIZERS_PARALLELISM=(true | false)\n",
      "huggingface/tokenizers: The current process just got forked, after parallelism has already been used. Disabling parallelism to avoid deadlocks...\n",
      "To disable this warning, you can either:\n",
      "\t- Avoid using `tokenizers` before the fork if possible\n",
      "\t- Explicitly set the environment variable TOKENIZERS_PARALLELISM=(true | false)\n",
      "huggingface/tokenizers: The current process just got forked, after parallelism has already been used. Disabling parallelism to avoid deadlocks...\n",
      "To disable this warning, you can either:\n",
      "\t- Avoid using `tokenizers` before the fork if possible\n",
      "\t- Explicitly set the environment variable TOKENIZERS_PARALLELISM=(true | false)\n",
      "huggingface/tokenizers: The current process just got forked, after parallelism has already been used. Disabling parallelism to avoid deadlocks...\n",
      "To disable this warning, you can either:\n",
      "\t- Avoid using `tokenizers` before the fork if possible\n",
      "\t- Explicitly set the environment variable TOKENIZERS_PARALLELISM=(true | false)\n",
      "huggingface/tokenizers: The current process just got forked, after parallelism has already been used. Disabling parallelism to avoid deadlocks...\n",
      "To disable this warning, you can either:\n",
      "\t- Avoid using `tokenizers` before the fork if possible\n",
      "\t- Explicitly set the environment variable TOKENIZERS_PARALLELISM=(true | false)\n",
      "huggingface/tokenizers: The current process just got forked, after parallelism has already been used. Disabling parallelism to avoid deadlocks...\n",
      "To disable this warning, you can either:\n",
      "\t- Avoid using `tokenizers` before the fork if possible\n",
      "\t- Explicitly set the environment variable TOKENIZERS_PARALLELISM=(true | false)\n",
      "huggingface/tokenizers: The current process just got forked, after parallelism has already been used. Disabling parallelism to avoid deadlocks...\n",
      "To disable this warning, you can either:\n",
      "\t- Avoid using `tokenizers` before the fork if possible\n",
      "\t- Explicitly set the environment variable TOKENIZERS_PARALLELISM=(true | false)\n",
      "huggingface/tokenizers: The current process just got forked, after parallelism has already been used. Disabling parallelism to avoid deadlocks...\n",
      "To disable this warning, you can either:\n",
      "\t- Avoid using `tokenizers` before the fork if possible\n",
      "\t- Explicitly set the environment variable TOKENIZERS_PARALLELISM=(true | false)\n",
      "huggingface/tokenizers: The current process just got forked, after parallelism has already been used. Disabling parallelism to avoid deadlocks...\n",
      "To disable this warning, you can either:\n",
      "\t- Avoid using `tokenizers` before the fork if possible\n",
      "\t- Explicitly set the environment variable TOKENIZERS_PARALLELISM=(true | false)\n",
      "huggingface/tokenizers: The current process just got forked, after parallelism has already been used. Disabling parallelism to avoid deadlocks...\n",
      "To disable this warning, you can either:\n",
      "\t- Avoid using `tokenizers` before the fork if possible\n",
      "\t- Explicitly set the environment variable TOKENIZERS_PARALLELISM=(true | false)\n",
      "huggingface/tokenizers: The current process just got forked, after parallelism has already been used. Disabling parallelism to avoid deadlocks...\n",
      "To disable this warning, you can either:\n",
      "\t- Avoid using `tokenizers` before the fork if possible\n",
      "\t- Explicitly set the environment variable TOKENIZERS_PARALLELISM=(true | false)\n",
      "huggingface/tokenizers: The current process just got forked, after parallelism has already been used. Disabling parallelism to avoid deadlocks...\n",
      "To disable this warning, you can either:\n",
      "\t- Avoid using `tokenizers` before the fork if possible\n",
      "\t- Explicitly set the environment variable TOKENIZERS_PARALLELISM=(true | false)\n",
      "huggingface/tokenizers: The current process just got forked, after parallelism has already been used. Disabling parallelism to avoid deadlocks...\n",
      "To disable this warning, you can either:\n",
      "\t- Avoid using `tokenizers` before the fork if possible\n",
      "\t- Explicitly set the environment variable TOKENIZERS_PARALLELISM=(true | false)\n",
      "huggingface/tokenizers: The current process just got forked, after parallelism has already been used. Disabling parallelism to avoid deadlocks...\n",
      "To disable this warning, you can either:\n",
      "\t- Avoid using `tokenizers` before the fork if possible\n",
      "\t- Explicitly set the environment variable TOKENIZERS_PARALLELISM=(true | false)\n",
      "huggingface/tokenizers: The current process just got forked, after parallelism has already been used. Disabling parallelism to avoid deadlocks...\n",
      "To disable this warning, you can either:\n",
      "\t- Avoid using `tokenizers` before the fork if possible\n",
      "\t- Explicitly set the environment variable TOKENIZERS_PARALLELISM=(true | false)\n",
      "huggingface/tokenizers: The current process just got forked, after parallelism has already been used. Disabling parallelism to avoid deadlocks...\n",
      "To disable this warning, you can either:\n",
      "\t- Avoid using `tokenizers` before the fork if possible\n",
      "\t- Explicitly set the environment variable TOKENIZERS_PARALLELISM=(true | false)\n",
      "huggingface/tokenizers: The current process just got forked, after parallelism has already been used. Disabling parallelism to avoid deadlocks...\n",
      "To disable this warning, you can either:\n",
      "\t- Avoid using `tokenizers` before the fork if possible\n",
      "\t- Explicitly set the environment variable TOKENIZERS_PARALLELISM=(true | false)\n",
      "huggingface/tokenizers: The current process just got forked, after parallelism has already been used. Disabling parallelism to avoid deadlocks...\n",
      "To disable this warning, you can either:\n",
      "\t- Avoid using `tokenizers` before the fork if possible\n",
      "\t- Explicitly set the environment variable TOKENIZERS_PARALLELISM=(true | false)\n",
      "huggingface/tokenizers: The current process just got forked, after parallelism has already been used. Disabling parallelism to avoid deadlocks...\n",
      "To disable this warning, you can either:\n",
      "\t- Avoid using `tokenizers` before the fork if possible\n",
      "\t- Explicitly set the environment variable TOKENIZERS_PARALLELISM=(true | false)\n",
      "huggingface/tokenizers: The current process just got forked, after parallelism has already been used. Disabling parallelism to avoid deadlocks...\n",
      "To disable this warning, you can either:\n",
      "\t- Avoid using `tokenizers` before the fork if possible\n",
      "\t- Explicitly set the environment variable TOKENIZERS_PARALLELISM=(true | false)\n",
      "huggingface/tokenizers: The current process just got forked, after parallelism has already been used. Disabling parallelism to avoid deadlocks...\n",
      "To disable this warning, you can either:\n",
      "\t- Avoid using `tokenizers` before the fork if possible\n",
      "\t- Explicitly set the environment variable TOKENIZERS_PARALLELISM=(true | false)\n",
      "2023-11-07 07:01:09.270983: E tensorflow/compiler/xla/stream_executor/cuda/cuda_driver.cc:268] failed call to cuInit: CUDA_ERROR_NO_DEVICE: no CUDA-capable device is detected\n"
     ]
    },
    {
     "name": "stdout",
     "output_type": "stream",
     "text": [
      "find function lasts  10.986637830734253  seconds\n",
      "/home/aditya_rustagi_farmart_co/fmt/on_field_gear_compliance/data/verified_images/WhatsApp Image 2023-10-16 at 17.33.02.jpeg\n",
      "3    /home/aditya_rustagi_farmart_co/fmt/on_field_g...\n",
      "2    /home/aditya_rustagi_farmart_co/fmt/on_field_g...\n",
      "1    /home/aditya_rustagi_farmart_co/fmt/on_field_g...\n",
      "0    /home/aditya_rustagi_farmart_co/fmt/on_field_g...\n",
      "Name: identity, dtype: object\n",
      "3    0.389982\n",
      "2    0.321571\n",
      "1    0.304338\n",
      "0    0.297934\n",
      "Name: VGG-Face_cosine, dtype: float64\n",
      "WARNING: Representations for images in /home/aditya_rustagi_farmart_co/fmt/on_field_gear_compliance/data/verified_images folder were previously stored in representations_vgg_face.pkl. If you added new instances after the creation, then please delete this file and call find function again. It will create it again.\n",
      "There are  19  representations found in  representations_vgg_face.pkl\n",
      "find function lasts  0.3954887390136719  seconds\n",
      "/home/aditya_rustagi_farmart_co/fmt/on_field_gear_compliance/data/verified_images/WhatsApp Image 2023-11-02 at 10.24.34.jpeg\n",
      "2    /home/aditya_rustagi_farmart_co/fmt/on_field_g...\n",
      "1    /home/aditya_rustagi_farmart_co/fmt/on_field_g...\n",
      "0    /home/aditya_rustagi_farmart_co/fmt/on_field_g...\n",
      "Name: identity, dtype: object\n",
      "2    0.392905\n",
      "1    0.281367\n",
      "0    0.183563\n",
      "Name: VGG-Face_cosine, dtype: float64\n",
      "<class 'numpy.ndarray'>\n",
      "tensor([[0.1275, 0.6889, 0.1836]], grad_fn=<SoftmaxBackward0>)\n",
      "<class 'str'>\n",
      "tensor([[0.1768, 0.8232]], grad_fn=<SoftmaxBackward0>)\n",
      "a person not wearing helmet\n",
      "WARNING: Representations for images in /home/aditya_rustagi_farmart_co/fmt/on_field_gear_compliance/data/verified_images folder were previously stored in representations_vgg_face.pkl. If you added new instances after the creation, then please delete this file and call find function again. It will create it again.\n",
      "There are  19  representations found in  representations_vgg_face.pkl\n",
      "find function lasts  0.4252481460571289  seconds\n",
      "/home/aditya_rustagi_farmart_co/fmt/on_field_gear_compliance/data/verified_images/WhatsApp Image 2023-11-02 at 09.26.45.jpeg\n",
      "3    /home/aditya_rustagi_farmart_co/fmt/on_field_g...\n",
      "2    /home/aditya_rustagi_farmart_co/fmt/on_field_g...\n",
      "1    /home/aditya_rustagi_farmart_co/fmt/on_field_g...\n",
      "0    /home/aditya_rustagi_farmart_co/fmt/on_field_g...\n",
      "Name: identity, dtype: object\n",
      "3    0.398020\n",
      "2    0.397586\n",
      "1    0.367292\n",
      "0    0.337910\n",
      "Name: VGG-Face_cosine, dtype: float64\n"
     ]
    }
   ],
   "source": [
    "demo.launch()"
   ]
  },
  {
   "cell_type": "code",
   "execution_count": null,
   "metadata": {},
   "outputs": [],
   "source": []
  }
 ],
 "metadata": {
  "kernelspec": {
   "display_name": "content-moderation",
   "language": "python",
   "name": "python3"
  },
  "language_info": {
   "codemirror_mode": {
    "name": "ipython",
    "version": 3
   },
   "file_extension": ".py",
   "mimetype": "text/x-python",
   "name": "python",
   "nbconvert_exporter": "python",
   "pygments_lexer": "ipython3",
   "version": "3.9.2"
  }
 },
 "nbformat": 4,
 "nbformat_minor": 2
}
